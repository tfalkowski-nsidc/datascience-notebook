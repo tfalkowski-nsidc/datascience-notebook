{
 "cells": [
  {
   "cell_type": "markdown",
   "metadata": {},
   "source": [
    "# NSIDC DAAC Customize and Access Data Tutorial\n",
    "\n",
    "This tutorial will walk you though how to access NSIDC DAAC data using spatial and temporal filters, as well as how to request customization services including subsetting, reformatting, and reprojection. \n"
   ]
  },
  {
   "cell_type": "markdown",
   "metadata": {},
   "source": [
    "Import packages\n"
   ]
  },
  {
   "cell_type": "code",
   "execution_count": 1,
   "metadata": {},
   "outputs": [],
   "source": [
    "# put necessary imports here\n",
    "\n",
    "import requests\n",
    "import getpass\n",
    "import socket\n",
    "import pycurl\n",
    "import urllib.request\n",
    "import json\n"
   ]
  },
  {
   "cell_type": "markdown",
   "metadata": {},
   "source": [
    "## Create a token\n",
    "\n",
    "We will generate a token needed in order to access data using your Earthdata Login credentials, and we will apply that token to the following queries."
   ]
  },
  {
   "cell_type": "code",
   "execution_count": 2,
   "metadata": {},
   "outputs": [
    {
     "name": "stdout",
     "output_type": "stream",
     "text": [
      "Earthdata Login user name: amy.steiker\n",
      "Earthdata Login password:········\n"
     ]
    }
   ],
   "source": [
    "# Earthdata Login credentials\n",
    "\n",
    "uid = input('Earthdata Login user name: ')\n",
    "pswd = getpass.getpass('Earthdata Login password:')\n"
   ]
  },
  {
   "cell_type": "code",
   "execution_count": 3,
   "metadata": {},
   "outputs": [],
   "source": [
    "# Function used to request token from Common Metadata Repository\n",
    "\n",
    "def create_token (uid, pswd):\n",
    "    \n",
    "    #import XML Element Tree\n",
    "    from xml.etree.ElementTree import Element, SubElement, Comment, tostring\n",
    "    \n",
    "    #Find IP address\n",
    "    hostname = socket.gethostname() \n",
    "    IP = socket.gethostbyname(hostname)\n",
    "    \n",
    "    #Create XML input\n",
    "\n",
    "    token = Element('token')\n",
    "    username = SubElement(token, 'username')\n",
    "    username.text = uid\n",
    "    password = SubElement(token, 'password')\n",
    "    password.text = pswd\n",
    "    client_id = SubElement(token, 'client_id')\n",
    "    client_id.text = 'NSIDC_client_id'\n",
    "    user_ip_address = SubElement(token, 'user_ip_address')\n",
    "    user_ip_address.text = IP\n",
    "\n",
    "    xml = (tostring(token, encoding='unicode', method='xml'))\n",
    "    \n",
    "    #Request token from Common Metadata Repository\n",
    "\n",
    "    headers = {'Content-Type': 'application/xml'} \n",
    "    token = requests.post('https://api.echo.nasa.gov/echo-rest/tokens', data=xml, headers=headers)\n",
    "    output = token.text\n",
    "    \n",
    "    #Grab token string\n",
    "\n",
    "    start = '<id>'\n",
    "    end = '</id>'\n",
    "\n",
    "    tokenval =(output.split(start))[1].split(end)[0]\n",
    "    \n",
    "    return tokenval"
   ]
  },
  {
   "cell_type": "code",
   "execution_count": 4,
   "metadata": {},
   "outputs": [
    {
     "name": "stdout",
     "output_type": "stream",
     "text": [
      "07789461-B918-FDE4-4447-5531D949939F\n"
     ]
    }
   ],
   "source": [
    "# Run create_token function using Earthdata Login Username (uid) and Password (pswd) as inputs\n",
    "\n",
    "token = create_token(uid, pswd)\n",
    "print(token)"
   ]
  },
  {
   "cell_type": "markdown",
   "metadata": {},
   "source": [
    "## Determine the services enabled for your data set of interest.\n",
    "\n",
    "We will do this by first inputting the data set of interest and the most recent version number."
   ]
  },
  {
   "cell_type": "code",
   "execution_count": 5,
   "metadata": {},
   "outputs": [
    {
     "name": "stdout",
     "output_type": "stream",
     "text": [
      "Input short name, e.g. ATL03, here: SPL3SMP\n"
     ]
    }
   ],
   "source": [
    "# Input data set short name (e.g. ATL03) of interest here.\n",
    "\n",
    "short_name = input('Input short name, e.g. ATL03, here: ')\n"
   ]
  },
  {
   "cell_type": "code",
   "execution_count": 6,
   "metadata": {},
   "outputs": [],
   "source": [
    "# For restricted collections\n",
    "# First determine the latest verion number by querying CMR collection metadata.\n",
    "\n",
    "\n",
    "# mr_url = 'https://cmr.earthdata.nasa.gov/search/collections.json?short_name=' + short_name + '&token=' + token\n",
    "# cmeta = requests.get(cmr_url)\n",
    " \n",
    "# with urllib.request.urlopen(cmr_url) as url:\n",
    "#    cmeta_json = json.loads(url.read().decode())"
   ]
  },
  {
   "cell_type": "markdown",
   "metadata": {},
   "source": [
    "Let's determine the most recent verion number by querying CMR collection metadata.\n"
   ]
  },
  {
   "cell_type": "code",
   "execution_count": 7,
   "metadata": {},
   "outputs": [
    {
     "name": "stdout",
     "output_type": "stream",
     "text": [
      "The most recent version of  SPL3SMP  is  005\n"
     ]
    }
   ],
   "source": [
    "# Get json response from CMR collection metadata\n",
    "\n",
    "\n",
    "cmr_url = 'https://cmr.earthdata.nasa.gov/search/collections.json?short_name=' + short_name\n",
    "cmeta = requests.get(cmr_url)\n",
    " \n",
    "with urllib.request.urlopen(cmr_url) as url:\n",
    "    cmeta_json = json.loads(url.read().decode())\n",
    "\n",
    "# Find all instances of 'version_id' in metadata and print most recent version number\n",
    "    \n",
    "entry = cmeta_json['feed']['entry']\n",
    "versions = []\n",
    "for x in range(len(entry)):\n",
    "    versions.append((entry[x]['version_id']))\n",
    "\n",
    "latest_version = max(versions)\n",
    "print('The most recent version of ', short_name, ' is ', latest_version)\n",
    "    "
   ]
  },
  {
   "cell_type": "markdown",
   "metadata": {},
   "source": [
    "Now let's find the services available for this data set and version."
   ]
  },
  {
   "cell_type": "code",
   "execution_count": 8,
   "metadata": {},
   "outputs": [],
   "source": [
    "# Input version of interest here\n",
    "\n",
    "# https://n5eil02u.ecs.nsidc.org/egi/capabilities/ATL03.205.xml"
   ]
  },
  {
   "cell_type": "markdown",
   "metadata": {},
   "source": [
    "## Download data"
   ]
  },
  {
   "cell_type": "code",
   "execution_count": 9,
   "metadata": {},
   "outputs": [
    {
     "name": "stdout",
     "output_type": "stream",
     "text": [
      "https://n5eil02u.ecs.nsidc.org/egi/request?short_name=GLAH12&version=034&bounding_box=-50.33333,68.56667,-49.33333,69.56667&bbox=-50.33333,68.56667,-49.33333,69.56667&time=2009-01-01T00:00:00,2009-12-31T23:59:59&format=TABULAR_ASCII&token=07789461-B918-FDE4-4447-5531D949939F\n"
     ]
    }
   ],
   "source": [
    "# Download data test (still in progress)\n",
    "\n",
    "# base URL: https://n5eil02u.ecs.nsidc.org/egi/request?\n",
    "# short_name=GLAH12\n",
    "# version=034\n",
    "# bounding_box=-50.33333,68.56667,-49.33333,69.56667\n",
    "# bbox=-50.33333,68.56667,-49.33333,69.56667\n",
    "# time=2009-01-01T00:00:00,2009-12-31T23:59:59\n",
    "# format=TABULAR_ASCII\n",
    "# token=TOKEN-FROM-STEP-2\n",
    "\n",
    "access_url = 'https://n5eil02u.ecs.nsidc.org/egi/request?' + 'short_name=GLAH12&' + 'version=034&' + 'bounding_box=-50.33333,68.56667,-49.33333,69.56667&' + 'bbox=-50.33333,68.56667,-49.33333,69.56667&' + 'time=2009-01-01T00:00:00,2009-12-31T23:59:59&' + 'format=TABULAR_ASCII&' + 'token=' + token\n",
    "print(access_url)"
   ]
  },
  {
   "cell_type": "code",
   "execution_count": 10,
   "metadata": {},
   "outputs": [],
   "source": [
    "import zipfile, io"
   ]
  },
  {
   "cell_type": "code",
   "execution_count": 11,
   "metadata": {},
   "outputs": [],
   "source": [
    "r = requests.get(access_url, allow_redirects=True)\n",
    "#open('google.ico', 'wb').write(r.content)\n",
    "#resp = requests.get(\"http://www.example.com\", \n",
    "                    #params = {\"name\":\"Daniel\", \"id\": 123456})\n",
    "    \n",
    "z = zipfile.ZipFile(io.BytesIO(r.content))\n",
    "z.extractall()\n",
    "\n",
    "\n",
    "#with open(\"data_output\",'wb') as f: \n",
    "  \n",
    "    # Saving received content as a png file in \n",
    "    # binary format \n",
    "  \n",
    "    # write the contents of the response (r.content) \n",
    "    # to a new file in binary mode. \n",
    "    #f.write(r.content) \n",
    "  \n"
   ]
  },
  {
   "cell_type": "code",
   "execution_count": null,
   "metadata": {},
   "outputs": [],
   "source": []
  },
  {
   "cell_type": "code",
   "execution_count": null,
   "metadata": {},
   "outputs": [],
   "source": []
  }
 ],
 "metadata": {
  "kernelspec": {
   "display_name": "Python 3",
   "language": "python",
   "name": "python3"
  },
  "language_info": {
   "codemirror_mode": {
    "name": "ipython",
    "version": 3
   },
   "file_extension": ".py",
   "mimetype": "text/x-python",
   "name": "python",
   "nbconvert_exporter": "python",
   "pygments_lexer": "ipython3",
   "version": "3.7.1"
  }
 },
 "nbformat": 4,
 "nbformat_minor": 2
}
